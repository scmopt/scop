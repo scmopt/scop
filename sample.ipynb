{
 "cells": [
  {
   "cell_type": "code",
   "execution_count": 8,
   "id": "0dfb05a3-d0e0-415e-8e38-e1c7902bca01",
   "metadata": {},
   "outputs": [],
   "source": [
    "from scoptrial.scop import *"
   ]
  },
  {
   "cell_type": "code",
   "execution_count": 7,
   "id": "0dc59c85-df00-4251-8c95-121814d92b6f",
   "metadata": {},
   "outputs": [
    {
     "name": "stdout",
     "output_type": "stream",
     "text": [
      "Model: \n",
      "number of variables = 3  \n",
      "number of constraints= 2  \n",
      "variable A:['0', '1', '2'] = None \n",
      "variable B:['0', '1', '2'] = None \n",
      "variable C:['0', '1', '2'] = None \n",
      "AD: weight= inf type=alldiff  A C B ;  :LHS =0  \n",
      "linear_constraint: weight= 1 type=linear 15(A,0) 20(A,1) 30(A,2) 7(B,0) 15(B,1) 12(B,2) 25(C,0) 10(C,1) 13(C,2) <=0 :LHS =0 \n",
      "\n",
      " ================ Now solving the problem ================ \n",
      "\n",
      "solution\n",
      "A 0\n",
      "B 2\n",
      "C 1\n",
      "violated constraint(s)\n",
      "linear_constraint 37\n"
     ]
    }
   ],
   "source": [
    "'''\n",
    "Example 1 (Assignment Problem):\n",
    "Three jobs (0,1,2) must be assigned to three workers (A,B,C)\n",
    "so that each job is assigned to exactly one worker.\n",
    "The cost matrix is represented by the list of lists\n",
    "Cost=[[15, 20, 30],\n",
    "      [7, 15, 12],\n",
    "      [25,10,13]],\n",
    "where rows of the matrix are workers, and columns are jobs.\n",
    "Find the minimum cost assignment of workers to jobs.\n",
    "'''\n",
    "\n",
    "workers=['A','B','C']\n",
    "Jobs   =[0,1,2]\n",
    "Cost={ ('A',0):15, ('A',1):20, ('A',2):30,\n",
    "       ('B',0): 7, ('B',1):15, ('B',2):12,\n",
    "       ('C',0):25, ('C',1):10, ('C',2):13 }\n",
    "\n",
    "m=Model()\n",
    "x={}\n",
    "for i in workers:\n",
    "    x[i]=m.addVariable(name=i,domain=Jobs)\n",
    "\n",
    "xlist=[]\n",
    "for i in x:\n",
    "    xlist.append(x[i])\n",
    "\n",
    "con1=Alldiff('AD',xlist,weight='inf')\n",
    "\n",
    "con2=Linear('linear_constraint',weight=1,rhs=0,direction='<=')\n",
    "for i in workers:\n",
    "    for j in Jobs:\n",
    "        con2.addTerms(Cost[i,j],x[i],j)\n",
    "\n",
    "m.addConstraint(con1)\n",
    "m.addConstraint(con2)\n",
    "\n",
    "print(m)\n",
    "\n",
    "m.Params.TimeLimit=1\n",
    "sol,violated=m.optimize()\n",
    "\n",
    "if m.Status==0:\n",
    "    print('solution')\n",
    "    for x in sol:\n",
    "        print (x,sol[x])\n",
    "    print ('violated constraint(s)')\n",
    "    for v in violated:\n",
    "        print (v,violated[v])"
   ]
  },
  {
   "cell_type": "code",
   "execution_count": null,
   "id": "23f9ddcf-24c3-42da-a0c4-498f3b1e143f",
   "metadata": {},
   "outputs": [],
   "source": []
  },
  {
   "cell_type": "code",
   "execution_count": null,
   "id": "168feeda-cd6f-4ecc-9fc3-2954307c9cc0",
   "metadata": {},
   "outputs": [],
   "source": []
  }
 ],
 "metadata": {
  "kernelspec": {
   "display_name": "Python 3 (ipykernel)",
   "language": "python",
   "name": "python3"
  },
  "language_info": {
   "codemirror_mode": {
    "name": "ipython",
    "version": 3
   },
   "file_extension": ".py",
   "mimetype": "text/x-python",
   "name": "python",
   "nbconvert_exporter": "python",
   "pygments_lexer": "ipython3",
   "version": "3.10.13"
  }
 },
 "nbformat": 4,
 "nbformat_minor": 5
}
